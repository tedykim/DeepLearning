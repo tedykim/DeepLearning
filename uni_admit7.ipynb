{
 "cells": [
  {
   "cell_type": "markdown",
   "metadata": {},
   "source": [
    "### DL 작업 5단계\n",
    "- 1. 데이터 읽고 분석 하기\n",
    "- 2. X,y 데이터 분리 결정\n"
   ]
  }
 ],
 "metadata": {
  "language_info": {
   "name": "python"
  }
 },
 "nbformat": 4,
 "nbformat_minor": 2
}
